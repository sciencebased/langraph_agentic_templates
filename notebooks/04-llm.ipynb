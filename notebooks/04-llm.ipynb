{
 "cells": [
  {
   "cell_type": "code",
   "execution_count": 9,
   "metadata": {},
   "outputs": [
    {
     "data": {
      "text/plain": [
       "True"
      ]
     },
     "execution_count": 9,
     "metadata": {},
     "output_type": "execute_result"
    }
   ],
   "source": [
    "import os\n",
    "\n",
    "from dotenv import load_dotenv\n",
    "load_dotenv()"
   ]
  },
  {
   "cell_type": "code",
   "execution_count": 5,
   "metadata": {},
   "outputs": [
    {
     "name": "stdout",
     "output_type": "stream",
     "text": [
      "==================================\u001b[1m Ai Message \u001b[0m==================================\n",
      "\n",
      "¡Hola! Estoy bien, gracias. ¿Y tú? ¿En qué puedo ayudarte hoy?\n"
     ]
    }
   ],
   "source": [
    "from langchain_openai import ChatOpenAI\n",
    "\n",
    "gpt4o_llm = ChatOpenAI(model=\"gpt-4o\", temperature=0)\n",
    "response = gpt4o_llm.invoke(\"Hola, cómo estás?\")\n",
    "response.content\n",
    "response.pretty_print()"
   ]
  },
  {
   "cell_type": "code",
   "execution_count": 7,
   "metadata": {},
   "outputs": [
    {
     "name": "stdout",
     "output_type": "stream",
     "text": [
      "==================================\u001b[1m Ai Message \u001b[0m==================================\n",
      "\n",
      "¡Hola! Estoy bien, gracias. ¿Y tú? ¿Cómo estás?\n"
     ]
    }
   ],
   "source": [
    "gpt3_turbo = ChatOpenAI(model=\"gpt-3.5-turbo-0125\", temperature=0)\n",
    "response = gpt3_turbo.invoke(\"Hola, cómo estás?\")\n",
    "response.content\n",
    "response.pretty_print()"
   ]
  },
  {
   "cell_type": "markdown",
   "metadata": {},
   "source": [
    "Sending with history"
   ]
  },
  {
   "cell_type": "code",
   "execution_count": 8,
   "metadata": {},
   "outputs": [
    {
     "name": "stdout",
     "output_type": "stream",
     "text": [
      "==================================\u001b[1m Ai Message \u001b[0m==================================\n",
      "\n",
      "¡Excelente elección! En Madrid hay varios restaurantes italianos que podrían interesarte. Aquí tienes algunas recomendaciones:\n",
      "\n",
      "1. **Trattoria Sant Arcangelo**: Ubicado cerca del Parque del Retiro, este restaurante ofrece un ambiente acogedor y una amplia variedad de platos italianos tradicionales, desde pastas hasta pizzas.\n",
      "\n",
      "2. **Oven Mozzarella Bar**: Con varias ubicaciones en Madrid, este restaurante es conocido por su auténtica mozzarella italiana y sus deliciosas pizzas al horno de leña.\n",
      "\n",
      "3. **Da Nicola**: Situado en la zona de Gran Vía, es un clásico de la comida italiana en Madrid. Ofrecen una gran variedad de platos, incluyendo opciones sin gluten.\n",
      "\n",
      "4. **Pasta Mito**: En el Mercado de San Miguel, este lugar es ideal para disfrutar de pasta fresca hecha al momento. Tienen una buena selección de salsas y combinaciones.\n",
      "\n",
      "5. **Numa Pompilio**: Un restaurante elegante en el barrio de Salamanca, conocido por su ambiente sofisticado y su cocina italiana de alta calidad.\n",
      "\n",
      "Espero que alguna de estas opciones sea de tu agrado. ¡Buen provecho!\n"
     ]
    }
   ],
   "source": [
    "from langchain_core.messages import HumanMessage, SystemMessage, AIMessage\n",
    "\n",
    "msg_1 = SystemMessage(content=\"Eres un asistente útil para restaurantes\")\n",
    "msg_2 = HumanMessage(content=\"Recomiéndame un restaurante en Madrid\")\n",
    "msg_3 = AIMessage(content=\"Claro, ¿qué tipo de comida te gusta?\")\n",
    "msg_4 = HumanMessage(content=\"Me gusta la comida italiana\")\n",
    "history = [msg_1, msg_2, msg_3, msg_4]\n",
    "response = gpt4o_llm.invoke(history)\n",
    "response.pretty_print()"
   ]
  },
  {
   "cell_type": "markdown",
   "metadata": {},
   "source": [
    "Connecting with antropic"
   ]
  },
  {
   "cell_type": "code",
   "execution_count": 11,
   "metadata": {},
   "outputs": [
    {
     "name": "stdout",
     "output_type": "stream",
     "text": [
      "==================================\u001b[1m Ai Message \u001b[0m==================================\n",
      "\n",
      "¡Excelente elección! Madrid tiene fantásticos restaurantes italianos. Aquí te recomiendo algunas opciones:\n",
      "\n",
      "1. **Gioia** - Auténtica cocina italiana con pasta fresca hecha a mano y una excelente selección de vinos italianos.\n",
      "\n",
      "2. **Pizzeria Fratelli Figurato** - Conocida por sus pizzas napolitanas con masa fermentada y hornos de leña.\n",
      "\n",
      "3. **Bel Mondo** - Elegante restaurante italiano en el barrio de Salamanca con excelentes risottos y postres caseros.\n",
      "\n",
      "4. **Trattoria Pulcinella** - Un clásico familiar con ambiente acogedor y recetas tradicionales del sur de Italia.\n",
      "\n",
      "5. **Mercato Italiano** - Concepto moderno que combina restaurante y mercado de productos italianos.\n",
      "\n",
      "¿Prefieres algo más casual o una experiencia más elegante? ¿Tienes alguna zona específica de Madrid en mente?\n"
     ]
    }
   ],
   "source": [
    "from langchain_anthropic import ChatAnthropic\n",
    "\n",
    "claude_llm = ChatAnthropic(model=\"claude-3-7-sonnet-20250219\", temperature=0)\n",
    "response = claude_llm.invoke(history)\n",
    "response.content\n",
    "response.pretty_print()"
   ]
  },
  {
   "cell_type": "code",
   "execution_count": 13,
   "metadata": {},
   "outputs": [
    {
     "name": "stdout",
     "output_type": "stream",
     "text": [
      "==================================\u001b[1m Ai Message \u001b[0m==================================\n",
      "\n",
      "¡Excelente elección! Madrid tiene fantásticos restaurantes italianos. Aquí te recomiendo algunas opciones:\n",
      "\n",
      "1. **Gioia** - Auténtica cocina italiana con pasta fresca hecha a mano y una excelente selección de vinos italianos.\n",
      "\n",
      "2. **Pizzeria Fratelli** - Conocida por sus pizzas con masa fermentada 72 horas y horneadas en horno de leña.\n",
      "\n",
      "3. **Trattoria Pulcinella** - Un ambiente acogedor con platos tradicionales del sur de Italia.\n",
      "\n",
      "4. **Bel Mondo** - Elegante restaurante italiano con excelentes risottos y una carta de temporada.\n",
      "\n",
      "5. **La Tavernetta** - Un rincón de Italia en Madrid con deliciosas pastas caseras y postres tradicionales.\n",
      "\n",
      "¿Prefieres algo más casual o una experiencia más elegante? ¿Tienes alguna zona específica de Madrid en mente?\n"
     ]
    }
   ],
   "source": [
    "from langchain.chat_models import init_chat_model\n",
    "llm = init_chat_model(\"anthropic:claude-3-7-sonnet-20250219\", temperature=0)\n",
    "response = llm.invoke(history)\n",
    "response.pretty_print()"
   ]
  }
 ],
 "metadata": {
  "kernelspec": {
   "display_name": "langraph-agentic-templates",
   "language": "python",
   "name": "python3"
  },
  "language_info": {
   "codemirror_mode": {
    "name": "ipython",
    "version": 3
   },
   "file_extension": ".py",
   "mimetype": "text/x-python",
   "name": "python",
   "nbconvert_exporter": "python",
   "pygments_lexer": "ipython3",
   "version": "3.13.3"
  }
 },
 "nbformat": 4,
 "nbformat_minor": 2
}
