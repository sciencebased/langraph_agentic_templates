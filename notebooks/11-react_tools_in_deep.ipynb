{
 "cells": [
  {
   "cell_type": "code",
   "execution_count": 1,
   "metadata": {},
   "outputs": [
    {
     "data": {
      "text/plain": [
       "True"
      ]
     },
     "execution_count": 1,
     "metadata": {},
     "output_type": "execute_result"
    }
   ],
   "source": [
    "from dotenv import load_dotenv\n",
    "load_dotenv()"
   ]
  },
  {
   "cell_type": "markdown",
   "metadata": {},
   "source": [
    "A model without context can not asnwer"
   ]
  },
  {
   "cell_type": "code",
   "execution_count": 1,
   "metadata": {},
   "outputs": [
    {
     "name": "stdout",
     "output_type": "stream",
     "text": [
      "==================================\u001b[1m Ai Message \u001b[0m==================================\n",
      "\n",
      "Lo siento, pero no tengo información específica sobre una persona llamada Joan Estrada y su experiencia en software. Si estás buscando información sobre una persona en particular, te recomendaría buscar en plataformas profesionales como LinkedIn o en su currículum vitae si está disponible públicamente. Si tienes más contexto o detalles sobre el campo o la industria en la que trabaja, podría intentar ayudarte mejor.\n"
     ]
    }
   ],
   "source": [
    "from langchain.chat_models import init_chat_model\n",
    "\n",
    "llm = init_chat_model(\"openai:gpt-4o\", temperature=0)\n",
    "response = llm.invoke(\"¿Cuál es la experiencia de Joan Estrada en software?\")\n",
    "\n",
    "response.pretty_print()\n"
   ]
  },
  {
   "cell_type": "markdown",
   "metadata": {},
   "source": [
    "Context given by system prompt"
   ]
  },
  {
   "cell_type": "code",
   "execution_count": 4,
   "metadata": {},
   "outputs": [
    {
     "name": "stdout",
     "output_type": "stream",
     "text": [
      "==================================\u001b[1m Ai Message \u001b[0m==================================\n",
      "\n",
      "Joan Estrada tiene más de 6 años de experiencia en desarrollo web y en inteligencia artificial.\n"
     ]
    }
   ],
   "source": [
    "SYSTEM_PROMPT = \"\"\"Joan Estrada es un desarrollador de software con +6 años de experiencia en desarrollo web y AI\"\"\"\n",
    "\n",
    "messages = [\n",
    "    (\"system\", SYSTEM_PROMPT),\n",
    "    (\"user\", \"¿Cuál es la experiencia de Joan Estrada en software?\"),\n",
    "]\n",
    "\n",
    "response = llm.invoke(messages)\n",
    "response.pretty_print()"
   ]
  },
  {
   "cell_type": "markdown",
   "metadata": {},
   "source": [
    "Context given by vectors: You can have information given in vectors"
   ]
  },
  {
   "cell_type": "markdown",
   "metadata": {},
   "source": [
    "Context given by web tools"
   ]
  },
  {
   "cell_type": "code",
   "execution_count": 14,
   "metadata": {},
   "outputs": [
    {
     "name": "stdout",
     "output_type": "stream",
     "text": [
      "Nombre: Joan Estrada\n",
      "Habilidades: Python, JavaScript, Machine Learning, Django, React\n"
     ]
    }
   ],
   "source": [
    "from langchain_core.tools import tool\n",
    "\n",
    "@tool(\"get_developer\", description=\"Obtiene el desarrollador por el cual pregunta el usuario\") #Inside () context of tool usage\n",
    "def get_developer() -> str:\n",
    "    \"\"\"Obtiene información sobre Joan Estrada\"\"\"\n",
    "    return f\"Nombre: Joan Estrada\\nHabilidades: Python, JavaScript, Machine Learning, Django, React\"\n",
    "\n",
    "print(get_developer.invoke({})) #test, needs at least one parameter (an empty dict)"
   ]
  },
  {
   "cell_type": "code",
   "execution_count": 2,
   "metadata": {},
   "outputs": [
    {
     "name": "stdout",
     "output_type": "stream",
     "text": [
      "name recieved is Joan\n",
      "Nombre: Joan Estrada\n",
      "Habilidades: Python, JavaScript, Machine Learning, Django, React\n"
     ]
    }
   ],
   "source": [
    "from langchain_core.tools import tool\n",
    "\n",
    "@tool(\"get_developer\", description=\"Obtiene el desarrollador por el cual pregunta el usuario\") #Inside () context of tool usage\n",
    "def get_developer(name: str) -> str:\n",
    "    \"\"\"Obtiene información sobre Joan Estrada\"\"\"\n",
    "    print(\"name recieved is\", name)\n",
    "    return f\"Nombre: Joan Estrada\\nHabilidades: Python, JavaScript, Machine Learning, Django, React\"\n",
    "\n",
    "print(get_developer.invoke({\"name\": \"Joan\"})) #test, needs at least one parameter"
   ]
  },
  {
   "cell_type": "code",
   "execution_count": 3,
   "metadata": {},
   "outputs": [
    {
     "name": "stdout",
     "output_type": "stream",
     "text": [
      "coffees [{'title': 'Black Coffee', 'description': 'Svart kaffe är så enkelt som det kan bli med malda kaffebönor dränkta i hett vatten, serverat varmt. Och om du vill låta fancy kan du kalla svart kaffe med sitt rätta namn: café noir.', 'ingredients': ['Coffee'], 'image': 'https://images.unsplash.com/photo-1494314671902-399b18174975?auto=format&fit=crop&q=80&w=1887&ixlib=rb-4.0.3&ixid=M3wxMjA3fDB8MHxwaG90by1wYWdlfHx8fGVufDB8fHx8fA%3D%3D', 'id': 1}, {'title': 'Latte', 'description': 'Som den mest populära kaffedrycken där ute består latte av en skvätt espresso och ångad mjölk med bara en gnutta skum. Den kan beställas utan smak eller med smak av allt från vanilj till pumpa kryddor.', 'ingredients': ['Espresso', 'Ångad mjölk'], 'image': 'https://images.unsplash.com/photo-1561882468-9110e03e0f78?auto=format&fit=crop&q=60&w=800&ixlib=rb-4.0.3&ixid=M3wxMjA3fDB8MHxzZWFyY2h8MTl8fGxhdHRlfGVufDB8fDB8fHww', 'id': 2}, {'title': 'Caramel Latte', 'description': 'Om du gillar latte med en speciell smak kan karamell latte vara det bästa alternativet för att ge dig en upplevelse av den naturliga sötman och krämigheten hos ångad mjölk och karamell.', 'ingredients': ['Espresso', 'Ångad mjölk', 'Karamellsirap'], 'image': 'https://images.unsplash.com/photo-1599398054066-846f28917f38?auto=format&fit=crop&q=80&w=1887&ixlib=rb-4.0.3&ixid=M3wxMjA3fDB8MHxwaG90by1wYWdlfHx8fGVufDB8fHx8fA%3D%3D', 'id': 3}, {'title': 'Cappuccino', 'description': 'Cappuccino är en latte som är gjord med mer skum än ångad mjölk, ofta med ett strö av kakaopulver eller kanel på toppen. Ibland kan du hitta variationer som använder grädde istället för mjölk eller sådana som tillsätter smakämnen också.', 'ingredients': ['Espresso', 'Ångad mjölk', 'Foam'], 'image': 'https://images.unsplash.com/photo-1557006021-b85faa2bc5e2?auto=format&fit=crop&q=80&w=1887&ixlib=rb-4.0.3&ixid=M3wxMjA3fDB8MHxwaG90by1wYWdlfHx8fGVufDB8fHx8fA%3D%3D', 'id': 4}, {'title': 'Americano', 'description': 'Med en liknande smak som svart kaffe består americano av en espresso skott utspätt med hett vatten.', 'ingredients': ['Espresso', 'Hett vatten'], 'image': 'https://images.unsplash.com/photo-1532004491497-ba35c367d634?auto=format&fit=crop&q=80&w=1887&ixlib=rb-4.0.3&ixid=M3wxMjA3fDB8MHxwaG90by1wYWdlfHx8fGVufDB8fHx8fA%3D%3D', 'id': 5}, {'title': 'Espresso', 'description': 'Ett espressoskott kan serveras ensamt eller användas som grund för de flesta kaffedrycker, som latte och macchiato.', 'ingredients': ['Espresso'], 'image': 'https://images.unsplash.com/photo-1579992357154-faf4bde95b3d?auto=format&fit=crop&q=80&w=1887&ixlib=rb-4.0.3&ixid=M3wxMjA3fDB8MHxwaG90by1wYWdlfHx8fGVufDB8fHx8fA%3D%3D', 'id': 6}, {'title': 'Macchiato', 'description': 'Macchiaton är en annan espresso-baserad dryck som har en liten mängd skum på toppen. Det är det glada mellanrummet mellan en cappuccino och en doppio.', 'ingredients': ['Espresso', 'Foam'], 'image': 'https://images.unsplash.com/photo-1557772611-722dabe20327?auto=format&fit=crop&q=80&w=1887&ixlib=rb-4.0.3&ixid=M3wxMjA3fDB8MHxwaG90by1wYWdlfHx8fGVufDB8fHx8fA%3D%3D', 'id': 7}, {'title': 'Mocha', 'description': 'För alla chokladälskare där ute kommer ni att bli förälskade i en mocha. Mocha är en choklad-espressodryck med ångad mjölk och skum.', 'ingredients': ['Espresso', 'Ångad mjölk', 'Choklad'], 'image': 'https://images.unsplash.com/photo-1607260550778-aa9d29444ce1?auto=format&fit=crop&q=80&w=1887&ixlib=rb-4.0.3&ixid=M3wxMjA3fDB8MHxwaG90by1wYWdlfHx8fGVufDB8fHx8fA%3D%3D', 'id': 8}, {'title': 'Hot Chocolate', 'description': 'Under kalla vinterdagar får en kopp varm choklad dig att känna dig bekväm och lycklig. Den får dig också att må bra eftersom den innehåller energigivande koffein.', 'ingredients': ['Choklad', 'Mjölk'], 'image': 'https://images.unsplash.com/photo-1542990253-0d0f5be5f0ed?auto=format&fit=crop&q=60&w=800&ixlib=rb-4.0.3&ixid=M3wxMjA3fDB8MHxzZWFyY2h8NDh8fGhvdCUyMGNob2NvbGF0ZXxlbnwwfHwwfHx8MA%3D%3D', 'id': 9}, {'title': 'Chai Latte', 'description': 'Om du letar efter en smakfull varm dryck mitt i vintern, välj chai latte. Kombinationen av kardemumma och kanel ger en underbar smak.', 'ingredients': ['Te', 'Mjölk', 'Ingefära', 'Kardemumma', 'Kanel'], 'image': 'https://images.unsplash.com/photo-1578899952107-9c390f1af1b7?w=900&auto=format&fit=crop&q=60&ixlib=rb-4.0.3&ixid=M3wxMjA3fDB8MHxzZWFyY2h8MTJ8fGNoYWklMjBsYXR0ZXxlbnwwfHwwfHx8MA%3D%3D', 'id': 10}, {'title': 'Matcha Latte', 'description': 'Matcha latte är en grön, hälsosam kaffedryck med finkrossad matcha-te och mjölk, erbjuder mild sötma, en unik smak och en mild koffeinkick.', 'ingredients': ['Matcha-pulver', 'Mjölk', 'Socker*'], 'image': 'https://images.unsplash.com/photo-1536256263959-770b48d82b0a?w=900&auto=format&fit=crop&q=60&ixlib=rb-4.0.3&ixid=M3wxMjA3fDB8MHxzZWFyY2h8M3x8bWF0Y2hhJTIwbGF0dGV8ZW58MHx8MHx8fDA%3D', 'id': 11}, {'title': 'Seasonal Brew', 'description': 'Säsongs kaffe med olika smaktoner som karamell, frukt och choklad', 'ingredients': ['Kaffe'], 'image': 'https://images.unsplash.com/photo-1611162458324-aae1eb4129a4?w=900&auto=format&fit=crop&q=60&ixlib=rb-4.0.3&ixid=M3wxMjA3fDB8MHxzZWFyY2h8MTg1fHxibGFjayUyMGNvZmZlZXxlbnwwfHwwfHx8MA%3D%3D', 'id': 12}, {'title': 'Svart Te', 'description': 'Svart te föddes i Kina. Det är tillverkat av blad från en växt som kallas Camellia och kan smaksättas olika med frukter till exempel. En trevlig, varm, smakfull och aromatisk dryck som passar till vardagen.', 'ingredients': ['Te'], 'image': 'https://images.unsplash.com/photo-1576092768241-dec231879fc3?auto=format&fit=crop&q=60&w=800&ixlib=rb-4.0.3&ixid=M3wxMjA3fDB8MHxzZWFyY2h8MjB8fHRlYXxlbnwwfHwwfHx8MA%3D%3D', 'id': 13}, {'title': 'Islatte', 'description': 'Iced latte är en kyld kaffedryck som görs genom att blanda espresso och kyld mjölk. Den serveras med isbitar och är även känd som cafè latte iced eller latte on the rocks.', 'ingredients': ['Espresso', 'Mjölk', 'Is', 'Sirap'], 'image': 'https://images.unsplash.com/photo-1517701550927-30cf4ba1dba5?auto=format&fit=crop&q=60&w=800&ixlib=rb-4.0.3&ixid=M3wxMjA3fDB8MHxzZWFyY2h8NHx8aWNlZCUyMGxhdHRlfGVufDB8fDB8fHww', 'id': 14}, {'title': 'Islatte Mocha', 'description': 'Iced latte Mocha är en kombination av latte och mocha, som i sig är en kombination av choklad och kaffe. Den ger kalla dryckälskare en läcker upplevelse av choklad och kaffe.', 'ingredients': ['Espresso', 'Is', 'Mjölk', 'Choklad '], 'image': 'https://images.unsplash.com/photo-1642647391072-6a2416f048e5?auto=format&fit=crop&q=60&w=800&ixlib=rb-4.0.3&ixid=M3wxMjA3fDB8MHxzZWFyY2h8Mzh8fGljZWQlMjBtb2NoYSUyMGxhdHRlfGVufDB8fDB8fHww', 'id': 15}, {'title': 'Frapino Caramel', 'description': 'Det är en blandad eller bättre sagt skakad kaffe med vispad grädde på toppen. Ett måste för varma sommardagar.', 'ingredients': ['coffee', 'Is', 'Mjölk', 'Karamellsirap', 'Vispgrädde*', 'Karamellsås'], 'image': 'https://images.unsplash.com/photo-1662047102608-a6f2e492411f?auto=format&fit=crop&q=60&w=800&ixlib=rb-4.0.3&ixid=M3wxMjA3fDB8MHxzZWFyY2h8NHx8ZnJhcGlubyUyMGNhcmFtZWx8ZW58MHx8MHx8fDA%3D', 'id': 16}, {'title': 'Frapino Mocka', 'description': 'Ännu en berömd och utsökt kall dryck för dem som föredrar choklad. Tänk dig smaken av en shake med choklad och vispad grädde på toppen.', 'ingredients': ['Coffee', 'Is', 'Mjölk', 'Cocoa', 'Vispgrädde*'], 'image': 'https://images.unsplash.com/photo-1530373239216-42518e6b4063?auto=format&fit=crop&q=60&w=800&ixlib=rb-4.0.3&ixid=M3wxMjA3fDB8MHxzZWFyY2h8NHx8ZnJhcGlubyUyMG1vY2hhfGVufDB8fDB8fHww', 'id': 17}, {'title': 'Apelsinjuice', 'description': 'Vi har inget att säga om vår nypressade apelsinjuice. Du måste prova den själv.', 'ingredients': ['Färska Apelsiner', 'Is'], 'image': 'https://images.unsplash.com/photo-1600271886742-f049cd451bba?auto=format&fit=crop&q=60&w=800&ixlib=rb-4.0.3&ixid=M3wxMjA3fDB8MHxzZWFyY2h8NzF8fG9yYW5nZSUyMGp1aWNlfGVufDB8fDB8fHww', 'id': 18}, {'title': 'Frozen Lemonade', 'description': 'Frozen lemonade är en uppfriskande sommardryck som kombinerar färskpressad citronsaft, is och sötning till en svalkande, syrlig och sötsyrlig smaksensation.', 'ingredients': ['Citronsaft', 'Is', 'Socker*'], 'image': 'https://images.unsplash.com/photo-1523371054106-bbf80586c38c?w=900&auto=format&fit=crop&q=60&ixlib=rb-4.0.3&ixid=M3wxMjA3fDB8MHxzZWFyY2h8MTZ8fGxlbW9uYWRlJTIwd2l0aCUyMGljZXxlbnwwfHwwfHx8MA%3D%3D', 'id': 19}, {'title': 'Lemonad', 'description': 'Var känd i Paris först och blev sedan mycket populär i hela Europa. Denna söta, färglösa, kolsyrade dryck görs genom att blanda citronsaft och kolsyrat vatten.', 'ingredients': ['Citronsaft', 'Kolsyrat vatten', 'Honung'], 'image': 'https://images.unsplash.com/photo-1621263764928-df1444c5e859?auto=format&fit=crop&q=60&w=800&ixlib=rb-4.0.3&ixid=M3wxMjA3fDB8MHxzZWFyY2h8Nnx8bGVtb25hZGV8ZW58MHx8MHx8fDA%3D', 'id': 20}, {'title': 'Black Coffee', 'description': 'Indian style black coffee.', 'ingredients': ['Water', 'Black Coffee Powder', 'Sugar'], 'image': 'www.coffeeDay.com.jpeg', 'id': 21}, {'title': 'title', 'description': 'desc', 'ingredients': '[t,e,s,t]', 'image': 'gerald', 'id': '313513'}]\n"
     ]
    },
    {
     "data": {
      "text/plain": [
       "\"Cafés disponibles: ['Black Coffee', 'Latte', 'Caramel Latte', 'Cappuccino', 'Americano', 'Espresso', 'Macchiato', 'Mocha', 'Hot Chocolate', 'Chai Latte', 'Matcha Latte', 'Seasonal Brew', 'Svart Te', 'Islatte', 'Islatte Mocha', 'Frapino Caramel', 'Frapino Mocka', 'Apelsinjuice', 'Frozen Lemonade', 'Lemonad', 'Black Coffee', 'title']\""
      ]
     },
     "execution_count": 3,
     "metadata": {},
     "output_type": "execute_result"
    }
   ],
   "source": [
    "from langchain_core.tools import tool\n",
    "import requests\n",
    "\n",
    "@tool(\"get_developer\", description=\"Obtiene el desarrollador por el cual pregunta el usuario\") #Inside () context of tool usage\n",
    "def get_coffees(name: str) -> str:\n",
    "    \"\"\"Obtiene información de diversos cafés\"\"\"\n",
    "    response = requests.get(\"https://api.sampleapis.com/coffee/hot\")\n",
    "    coffees = response.json()\n",
    "    print(\"coffees\", coffees)\n",
    "    return f\"Cafés disponibles: {[coffee['title'] for coffee in coffees]}\"\n",
    "\n",
    "get_coffees.invoke({\"name\": \"Joan\"}) #test, needs at least one parameter"
   ]
  }
 ],
 "metadata": {
  "kernelspec": {
   "display_name": "langraph-agentic-templates",
   "language": "python",
   "name": "python3"
  },
  "language_info": {
   "codemirror_mode": {
    "name": "ipython",
    "version": 3
   },
   "file_extension": ".py",
   "mimetype": "text/x-python",
   "name": "python",
   "nbconvert_exporter": "python",
   "pygments_lexer": "ipython3",
   "version": "3.13.3"
  }
 },
 "nbformat": 4,
 "nbformat_minor": 2
}
