{
 "cells": [
  {
   "cell_type": "markdown",
   "metadata": {},
   "source": [
    "Messages management"
   ]
  },
  {
   "cell_type": "code",
   "execution_count": 3,
   "metadata": {},
   "outputs": [
    {
     "data": {
      "text/plain": [
       "<bound method BaseMessage.text of AIMessage(content='Message from the AI!', additional_kwargs={}, response_metadata={})>"
      ]
     },
     "execution_count": 3,
     "metadata": {},
     "output_type": "execute_result"
    }
   ],
   "source": [
    "from langchain_core.messages import AIMessage, SystemMessage, ToolMessage\n",
    "\n",
    "ai_msg = AIMessage(content=\"Message from the AI!\")\n",
    "ai_msg.text"
   ]
  },
  {
   "cell_type": "code",
   "execution_count": 9,
   "metadata": {},
   "outputs": [
    {
     "data": {
      "text/plain": [
       "<bound method BaseMessage.text of HumanMessage(content='Message from the human!', additional_kwargs={}, response_metadata={})>"
      ]
     },
     "execution_count": 9,
     "metadata": {},
     "output_type": "execute_result"
    }
   ],
   "source": [
    "from langchain_core.messages import HumanMessage\n",
    "\n",
    "human_msg = HumanMessage(content=\"Message from the human!\")\n",
    "human_msg.text"
   ]
  },
  {
   "cell_type": "code",
   "execution_count": 10,
   "metadata": {},
   "outputs": [
    {
     "name": "stdout",
     "output_type": "stream",
     "text": [
      "==================================\u001b[1m Ai Message \u001b[0m==================================\n",
      "\n",
      "Message from the AI!\n",
      "================================\u001b[1m Human Message \u001b[0m=================================\n",
      "\n",
      "Message from the human!\n"
     ]
    }
   ],
   "source": [
    "history = [ai_msg, human_msg]\n",
    "for m in history:\n",
    "    m.pretty_print()"
   ]
  },
  {
   "cell_type": "code",
   "execution_count": null,
   "metadata": {},
   "outputs": [],
   "source": [
    "#Concatenate remember (list + list)\n",
    "[1,2,3] + [4,5,6]"
   ]
  },
  {
   "cell_type": "markdown",
   "metadata": {},
   "source": [
    "Concatenate for historial"
   ]
  },
  {
   "cell_type": "code",
   "execution_count": null,
   "metadata": {},
   "outputs": [],
   "source": [
    "history + [AIMessage(content=\"Another AI message!\")]"
   ]
  }
 ],
 "metadata": {
  "kernelspec": {
   "display_name": "langraph-agentic-templates",
   "language": "python",
   "name": "python3"
  },
  "language_info": {
   "codemirror_mode": {
    "name": "ipython",
    "version": 3
   },
   "file_extension": ".py",
   "mimetype": "text/x-python",
   "name": "python",
   "nbconvert_exporter": "python",
   "pygments_lexer": "ipython3",
   "version": "3.13.3"
  }
 },
 "nbformat": 4,
 "nbformat_minor": 2
}
