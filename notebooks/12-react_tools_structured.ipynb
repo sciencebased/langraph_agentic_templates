{
 "cells": [
  {
   "cell_type": "code",
   "execution_count": null,
   "metadata": {},
   "outputs": [],
   "source": [
    "from dotenv import load_dotenv\n",
    "load_dotenv()"
   ]
  },
  {
   "cell_type": "code",
   "execution_count": 2,
   "metadata": {},
   "outputs": [],
   "source": [
    "from langchain.chat_models import init_chat_model\n",
    "\n",
    "llm = init_chat_model(\"openai:gpt-4o\", temperature=0)"
   ]
  },
  {
   "cell_type": "markdown",
   "metadata": {},
   "source": [
    "Custom call of tools"
   ]
  },
  {
   "cell_type": "code",
   "execution_count": 8,
   "metadata": {},
   "outputs": [],
   "source": [
    "from langchain_core.tools import tool\n",
    "\n",
    "@tool(\"get_products\", description=\"Get the current products for a given store\")\n",
    "def get_products(store: str):\n",
    "    print(\"Store\", store)\n",
    "    return [\n",
    "        {\"name\": \"Laptop\", \"price\": 999.99, \"stock\": 10},\n",
    "        {\"name\": \"Smartphone\", \"price\": 499.99, \"stock\": 25},\n",
    "        {\"name\": \"Tablet\", \"price\": 299.99, \"stock\": 15},\n",
    "        {\"name\": \"Headphones\", \"price\": 199.99, \"stock\": 50},\n",
    "        {\"name\": \"Smartwatch\", \"price\": 199.99, \"stock\": 30},\n",
    "        ]\n",
    "\n",
    "@tool(\"get_weather\", description=\"Get the current weather for a given city\")\n",
    "def get_weather(city: str):\n",
    "    print(\"City\", city)\n",
    "    return [{\"city\": \"New York\", \"temperature\": 75, \"condition\": \"Sunny\"},]"
   ]
  },
  {
   "cell_type": "code",
   "execution_count": 9,
   "metadata": {},
   "outputs": [
    {
     "name": "stdout",
     "output_type": "stream",
     "text": [
      "[{'name': 'get_products', 'args': {'store': 'principal'}, 'id': 'call_o9g5JMFravi1XqrYMG99Mc16', 'type': 'tool_call'}]\n"
     ]
    }
   ],
   "source": [
    "system_prompt = \"\"\"\n",
    "Eres un asistente de ventas que ayuda a los clientes a encontrar productos en una tienda en línea y dar el clima de la ciudad\n",
    "\n",
    "Tus tools son:\n",
    "- get_products: para obtener los productos que ofreces en linea\n",
    "- get_weather: para obtener el clima de una ciudad\n",
    "\"\"\"\n",
    "\n",
    "messages = [\n",
    "    (\"system\", system_prompt),\n",
    "    (\"user\", \"Hola, ¿qué productos tienen disponibles en la store principal?\"),\n",
    "]\n",
    "\n",
    "# another_question = [\n",
    "#     (\"user\", \"¿Cuál es el clima en Nueva York?\"),\n",
    "# ]\n",
    "# messages = messages + another_question\n",
    "\n",
    "llm_with_tools = llm.bind_tools([get_products, get_weather])\n",
    "response = llm_with_tools.invoke(messages)\n",
    "print(response.tool_calls)"
   ]
  },
  {
   "cell_type": "code",
   "execution_count": null,
   "metadata": {},
   "outputs": [],
   "source": []
  }
 ],
 "metadata": {
  "kernelspec": {
   "display_name": "langraph-agentic-templates",
   "language": "python",
   "name": "python3"
  },
  "language_info": {
   "codemirror_mode": {
    "name": "ipython",
    "version": 3
   },
   "file_extension": ".py",
   "mimetype": "text/x-python",
   "name": "python",
   "nbconvert_exporter": "python",
   "pygments_lexer": "ipython3",
   "version": "3.13.3"
  }
 },
 "nbformat": 4,
 "nbformat_minor": 2
}
