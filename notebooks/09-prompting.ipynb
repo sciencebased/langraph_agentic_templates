{
 "cells": [
  {
   "cell_type": "markdown",
   "metadata": {},
   "source": [
    "PROMPT ENGINEEERING"
   ]
  },
  {
   "cell_type": "code",
   "execution_count": 1,
   "metadata": {},
   "outputs": [
    {
     "name": "stdout",
     "output_type": "stream",
     "text": [
      "## Instruction\n",
      "\n",
      "Recuerda que hoy es 2025-10-06\n",
      "\n",
      "## ROL\n",
      "\n",
      "Eres un asistente útil que responde preguntas de manera concisa y clara.\n",
      "\n",
      "## Tarea\n",
      "Responde a la siguiente pregunta de manera breve y precisa.\n",
      "\n",
      "## Input\n",
      "¿Quien es Joan Estrada?\n",
      "\n",
      "## Formato de saida\n",
      "Responde en el siguiente formato:\n",
      "Respuesta: <tu respuesta aquí>, <Frase del señor de los anillos>\n",
      "\n",
      "\n"
     ]
    }
   ],
   "source": [
    "from langchain_core.prompts import PromptTemplate\n",
    "from datetime import datetime\n",
    "\n",
    "now = datetime.now()\n",
    "fecha_actual = now.strftime(\"%Y-%m-%d\")\n",
    "\n",
    "template = \"\"\"\\\n",
    "## Instruction\n",
    "\n",
    "Recuerda que hoy es {fecha_actual}\n",
    "\n",
    "## ROL\n",
    "\n",
    "Eres un asistente útil que responde preguntas de manera concisa y clara.\n",
    "\n",
    "## Tarea\n",
    "Responde a la siguiente pregunta de manera breve y precisa.\n",
    "\n",
    "## Input\n",
    "{input}\n",
    "\n",
    "## Formato de saida\n",
    "Responde en el siguiente formato:\n",
    "Respuesta: <tu respuesta aquí>, <Frase del señor de los anillos>\n",
    "\n",
    "\"\"\"\n",
    "\n",
    "prompt_template = PromptTemplate.from_template(template)\n",
    "prompt = prompt_template.format(fecha_actual=fecha_actual, input=\"¿Quien es Joan Estrada?\")\n",
    "print(prompt.format(fecha_actual=fecha_actual, input=\"¿Quien es Joan Estrada?\"))"
   ]
  },
  {
   "cell_type": "markdown",
   "metadata": {},
   "source": [
    "Partial variable: Take variables by default if not present"
   ]
  },
  {
   "cell_type": "code",
   "execution_count": 2,
   "metadata": {},
   "outputs": [
    {
     "name": "stdout",
     "output_type": "stream",
     "text": [
      "## Instruction\n",
      "\n",
      "Recuerda que hoy es 2025-10-06\n",
      "\n",
      "## ROL\n",
      "\n",
      "Eres un asistente útil que responde preguntas de manera concisa y clara.\n",
      "\n",
      "## Tarea\n",
      "Responde a la siguiente pregunta de manera breve y precisa.\n",
      "\n",
      "## Input\n",
      "¿Quien es Joan Estrada?\n",
      "\n",
      "## Formato de saida\n",
      "Responde en el siguiente formato:\n",
      "Respuesta: <tu respuesta aquí>, <Frase del señor de los anillos>\n",
      "\n",
      "\n"
     ]
    }
   ],
   "source": [
    "import datetime\n",
    "today = datetime.date.today()\n",
    "\n",
    "prompt_template = PromptTemplate.from_template(template, partial_variables={\"fecha_actual\": today})\n",
    "prompt = prompt_template.format(input=\"¿Quien es Joan Estrada?\")\n",
    "print(prompt)"
   ]
  },
  {
   "cell_type": "markdown",
   "metadata": {},
   "source": [
    "Template advanced usage in langchain: Jinja. Django uses.\n",
    "Allows: Iterations, loops, if. In prompting."
   ]
  },
  {
   "cell_type": "code",
   "execution_count": 6,
   "metadata": {},
   "outputs": [
    {
     "name": "stdout",
     "output_type": "stream",
     "text": [
      "## Instruction\n",
      "\n",
      "Recuerda que hoy es {today}\n",
      "\n",
      "## ROL\n",
      "\n",
      "Eres un asistente útil que responde preguntas de manera concisa y clara.\n",
      "\n",
      "# \"-%\" remove break line if no name\n",
      "\n",
      "## Tarea\n",
      "Responde a la siguiente pregunta de manera breve y precisa.\n",
      "\n",
      "## Input\n",
      "{input}\n",
      "\n",
      "## Formato de saida\n",
      "Responde en el siguiente formato:\n",
      "Respuesta: <tu respuesta aquí>, <Frase del señor de los anillos>\n",
      "\n"
     ]
    }
   ],
   "source": [
    "import datetime\n",
    "today = datetime.date.today()\n",
    "\n",
    "template = \"\"\"\\\n",
    "## Instruction\n",
    "\n",
    "Recuerda que hoy es {today}\n",
    "\n",
    "## ROL\n",
    "\n",
    "Eres un asistente útil que responde preguntas de manera concisa y clara.\n",
    "\n",
    "{% if name %}\n",
    "El nombre del usuario es {{ name }}.\n",
    "{% endif -%}\n",
    "\n",
    "## Tarea\n",
    "Responde a la siguiente pregunta de manera breve y precisa.\n",
    "\n",
    "## Input\n",
    "{input}\n",
    "\n",
    "## Formato de saida\n",
    "Responde en el siguiente formato:\n",
    "Respuesta: <tu respuesta aquí>, <Frase del señor de los anillos>\n",
    "\n",
    "\"\"\"\n",
    "\n",
    "prompt_template = PromptTemplate.from_template(template, template_format=\"jinja2\")\n",
    "prompt = prompt_template.format(input=\"¿Quien es Joan Estrada?\", today=today, name=None)\n",
    "print(prompt)"
   ]
  }
 ],
 "metadata": {
  "kernelspec": {
   "display_name": "langraph-agentic-templates",
   "language": "python",
   "name": "python3"
  },
  "language_info": {
   "codemirror_mode": {
    "name": "ipython",
    "version": 3
   },
   "file_extension": ".py",
   "mimetype": "text/x-python",
   "name": "python",
   "nbconvert_exporter": "python",
   "pygments_lexer": "ipython3",
   "version": "3.13.3"
  }
 },
 "nbformat": 4,
 "nbformat_minor": 2
}
