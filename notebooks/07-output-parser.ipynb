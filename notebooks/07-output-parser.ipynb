{
 "cells": [
  {
   "cell_type": "markdown",
   "metadata": {},
   "source": [
    "Always remember checking integrations for seeing capabilities\n",
    "\n",
    "https://docs.langchain.com/oss/python/integrations/chat"
   ]
  },
  {
   "cell_type": "markdown",
   "metadata": {},
   "source": [
    "JSON mode can be replaced by structured output"
   ]
  },
  {
   "cell_type": "code",
   "execution_count": 1,
   "metadata": {},
   "outputs": [
    {
     "data": {
      "text/plain": [
       "True"
      ]
     },
     "execution_count": 1,
     "metadata": {},
     "output_type": "execute_result"
    }
   ],
   "source": [
    "from dotenv import load_dotenv\n",
    "load_dotenv()"
   ]
  },
  {
   "cell_type": "code",
   "execution_count": 5,
   "metadata": {},
   "outputs": [
    {
     "data": {
      "text/plain": [
       "\"Hello Joan! It's nice to meet you. How are you doing today? Is there something I can help you with?\""
      ]
     },
     "execution_count": 5,
     "metadata": {},
     "output_type": "execute_result"
    }
   ],
   "source": [
    "from langchain.chat_models import init_chat_model\n",
    "\n",
    "llm = init_chat_model(\"anthropic:claude-3-7-sonnet-20250219\", temperature=0.5)\n",
    "response = llm.invoke(\"Hello!, im Joan\")\n",
    "response.content"
   ]
  },
  {
   "cell_type": "markdown",
   "metadata": {},
   "source": [
    "Lets define the schema"
   ]
  },
  {
   "cell_type": "code",
   "execution_count": 14,
   "metadata": {},
   "outputs": [
    {
     "name": "stdout",
     "output_type": "stream",
     "text": [
      "Joan Estrada\n"
     ]
    }
   ],
   "source": [
    "from pydantic import BaseModel, Field\n",
    "\n",
    "#Remember good descriptions\n",
    "\n",
    "class ContactInfo(BaseModel):\n",
    "    \"\"\"Contact information of a person\"\"\"\n",
    "    name: str = Field(..., description=\"The full name of the person\")\n",
    "    email: str = Field(..., description=\"The email address of the person\")\n",
    "    phone: str = Field(..., description=\"The phone number of the person\")\n",
    "    tone: str = Field(..., description=\"The tone of the message\")\n",
    "    age: int = Field(..., description=\"The age of the person\", ge=0, le=100)\n",
    "    sentiment: str = Field(..., description=\"The sentiment of the message\", enumerated=[\"positive\", \"negative\", \"neutral\"])\n",
    "\n",
    "llm_with_structured_output = llm.with_structured_output(schema=ContactInfo)\n",
    "\n",
    "messages = [\n",
    "    (\"system\", \"You are a helpful assistant that extracts contact information from text, and asks about if missing.\"),\n",
    "    (\"user\", \"Hola, soy joan Estrada, me podrías atender, mi querida ia?\")\n",
    "]\n",
    "\n",
    "response = llm_with_structured_output.invoke(messages)\n",
    "print(response.name)\n"
   ]
  }
 ],
 "metadata": {
  "kernelspec": {
   "display_name": "langraph-agentic-templates",
   "language": "python",
   "name": "python3"
  },
  "language_info": {
   "codemirror_mode": {
    "name": "ipython",
    "version": 3
   },
   "file_extension": ".py",
   "mimetype": "text/x-python",
   "name": "python",
   "nbconvert_exporter": "python",
   "pygments_lexer": "ipython3",
   "version": "3.13.3"
  }
 },
 "nbformat": 4,
 "nbformat_minor": 2
}
