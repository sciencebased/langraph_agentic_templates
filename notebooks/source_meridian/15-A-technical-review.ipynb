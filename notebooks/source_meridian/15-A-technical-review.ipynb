{
 "cells": [
  {
   "cell_type": "markdown",
   "metadata": {},
   "source": [
    "Agent A: Ingestion"
   ]
  },
  {
   "cell_type": "code",
   "execution_count": 11,
   "metadata": {},
   "outputs": [
    {
     "name": "stdout",
     "output_type": "stream",
     "text": [
      "Joan\n"
     ]
    }
   ],
   "source": [
    "from langgraph.graph import StateGraph, START, END, MessagesState\n",
    "import os, json\n",
    "from typing import Dict, List, Any\n",
    "import pandas as pd\n",
    "from paperscraper.pubmed import get_and_dump_pubmed_papers\n",
    "\n",
    "class State(MessagesState):\n",
    "    customer_name: str\n",
    "    my_age: int\n",
    "    pubmed_data: List[Dict[str, Any]] = None\n",
    "    csv_path: str = \"data/raw/pubmed_raw.csv\"\n",
    "    csv_out_path: str = \"data/processed/pubmed_processed.csv\"\n",
    "\n",
    "state: State = {}\n",
    "state[\"customer_name\"] = \"Joan\"\n",
    "customer_name = state.get(\"customer_name\", None)\n",
    "print(customer_name)"
   ]
  },
  {
   "cell_type": "markdown",
   "metadata": {},
   "source": [
    "Helpers"
   ]
  },
  {
   "cell_type": "code",
   "execution_count": 12,
   "metadata": {},
   "outputs": [],
   "source": [
    "def _normalize_query(q: Any) -> List[List[str]]:\n",
    "    \"\"\"\n",
    "    paperscraper expects a list of \"term-groups\", where terms in the same sublist are OR'ed,\n",
    "    and sublists are AND'ed. E.g., [['diabetes'], ['machine learning', 'deep learning']]\n",
    "    \"\"\"\n",
    "    if q is None:\n",
    "        # Default: something broad but medical—adjust this later from Agent B or user input\n",
    "        return [[\"clinical\"], [\"machine learning\"]]\n",
    "    if isinstance(q, str):\n",
    "        return [[q]]\n",
    "    if isinstance(q, list) and all(isinstance(x, str) for x in q):\n",
    "        return [q]\n",
    "    if isinstance(q, list) and all(isinstance(x, list) for x in q):\n",
    "        return q\n",
    "    # Fallback\n",
    "    return [[str(q)]]\n",
    "\n",
    "def _jsonl_to_df(jsonl_path: str, cap: int = 50) -> pd.DataFrame:\n",
    "    rows: List[Dict[str, Any]] = []\n",
    "    with open(jsonl_path, \"r\", encoding=\"utf-8\") as f:\n",
    "        for i, line in enumerate(f):\n",
    "            if i >= cap:\n",
    "                break\n",
    "            try:\n",
    "                rec = json.loads(line)\n",
    "            except Exception:\n",
    "                continue\n",
    "\n",
    "            rows.append({\n",
    "                \"pmid\": rec.get(\"pmid\") or rec.get(\"PMID\"),\n",
    "                \"doi\": rec.get(\"doi\") or rec.get(\"DOI\"),\n",
    "                \"title\": rec.get(\"title\") or rec.get(\"Title\"),\n",
    "                \"abstract\": rec.get(\"abstract\") or rec.get(\"Abstract\"),\n",
    "                \"journal\": rec.get(\"journal\") or rec.get(\"Journal\"),\n",
    "                \"year\": rec.get(\"year\") or rec.get(\"publication_year\") or rec.get(\"Year\"),\n",
    "                \"authors\": rec.get(\"authors\"),\n",
    "                \"keywords\": rec.get(\"keywords\"),\n",
    "                \"citation_count\": rec.get(\"citation_count\"),\n",
    "                \"source\": rec.get(\"source\") or \"PubMed\",\n",
    "                \"url\": rec.get(\"url\") or rec.get(\"link\"),\n",
    "            })\n",
    "    return pd.DataFrame(rows)\n"
   ]
  },
  {
   "cell_type": "code",
   "execution_count": 13,
   "metadata": {},
   "outputs": [],
   "source": [
    "def fetch_data(state: State) -> State:\n",
    "    \"\"\"\n",
    "    Retrieve ~50 PubMed records via paperscraper and drop a temporary JSONL dump on disk.\n",
    "    \"\"\"\n",
    "    q = _normalize_query(state.get(\"pubmed_query\", None))\n",
    "    dump_path = state.get(\"tmp_dump_path\") or \"data/tmp/pubmed_dump.jsonl\"\n",
    "    os.makedirs(os.path.dirname(dump_path), exist_ok=True)\n",
    "    get_and_dump_pubmed_papers(q, output_filepath=dump_path)\n",
    "\n",
    "    state[\"tmp_dump_path\"] = dump_path\n",
    "    return state\n"
   ]
  },
  {
   "cell_type": "code",
   "execution_count": 14,
   "metadata": {},
   "outputs": [],
   "source": [
    "def persist(state: State) -> State:\n",
    "    \"\"\"\n",
    "    Read the JSONL dump, cap to ~50, and persist to CSV at data/raw/pubmed_raw.csv.\n",
    "    \"\"\"\n",
    "    dump_path = state.get(\"tmp_dump_path\", \"data/tmp/pubmed_dump.jsonl\")\n",
    "    csv_out = state.get(\"csv_out_path\") or \"data/raw/pubmed_raw.csv\"\n",
    "    cap = int(state.get(\"max_records\", 50))\n",
    "\n",
    "    df = _jsonl_to_df(dump_path, cap=cap)\n",
    "\n",
    "    os.makedirs(os.path.dirname(csv_out), exist_ok=True)\n",
    "    df.to_csv(csv_out, index=False, encoding=\"utf-8\")\n",
    "\n",
    "    state[\"csv_out_path\"] = csv_out\n",
    "    state[\"pubmed_rows\"] = len(df)\n",
    "    state[\"messages\"] = state.get(\"messages\", []) + [\n",
    "        {\"role\": \"system\", \"content\": f\"Ingestion complete: {len(df)} rows → {csv_out}\"}\n",
    "    ]\n",
    "    return state"
   ]
  },
  {
   "cell_type": "code",
   "execution_count": 15,
   "metadata": {},
   "outputs": [
    {
     "data": {
      "image/png": "[encoded data removed]",
      "text/plain": [
       "<IPython.core.display.Image object>"
      ]
     },
     "metadata": {},
     "output_type": "display_data"
    }
   ],
   "source": [
    "from langgraph.graph import StateGraph, START, END\n",
    "\n",
    "\n",
    "builder = StateGraph(State)\n",
    "builder.add_node(\"fetch_data\", fetch_data)\n",
    "builder.add_node(\"persist\", persist)\n",
    "\n",
    "builder.add_edge(START, \"fetch_data\")\n",
    "builder.add_edge(\"fetch_data\", \"persist\")\n",
    "builder.add_edge(\"persist\", END)\n",
    "\n",
    "agent = builder.compile()\n",
    "from IPython.display import Image, display\n",
    "display(Image(agent.get_graph().draw_mermaid_png()))"
   ]
  },
  {
   "cell_type": "code",
   "execution_count": 17,
   "metadata": {},
   "outputs": [
    {
     "name": "stdout",
     "output_type": "stream",
     "text": [
      "Wrote: data/raw/pubmed_raw.csv | rows: None\n"
     ]
    }
   ],
   "source": [
    "state: State = {}\n",
    "state[\"customer_name\"] = \"Joan\"\n",
    "state[\"my_age\"] = 24\n",
    "state[\"pubmed_query\"] = [[\"PubMed\", \"biomedical\"], [\"colombia\"]]\n",
    "state[\"max_records\"] = 50\n",
    "state[\"tmp_dump_path\"] = \"data/tmp/pubmed_dump.jsonl\"\n",
    "state[\"csv_out_path\"] = \"data/raw/pubmed_raw.csv\"\n",
    "\n",
    "result = agent.invoke(state)\n",
    "print(\"Wrote:\", result[\"csv_out_path\"], \"| rows:\", result.get(\"pubmed_rows\"))"
   ]
  }
 ],
 "metadata": {
  "kernelspec": {
   "display_name": "langraph-agentic-templates",
   "language": "python",
   "name": "python3"
  },
  "language_info": {
   "codemirror_mode": {
    "name": "ipython",
    "version": 3
   },
   "file_extension": ".py",
   "mimetype": "text/x-python",
   "name": "python",
   "nbconvert_exporter": "python",
   "pygments_lexer": "ipython3",
   "version": "3.13.3"
  }
 },
 "nbformat": 4,
 "nbformat_minor": 2
}
