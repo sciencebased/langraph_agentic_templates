{
 "cells": [
  {
   "cell_type": "code",
   "execution_count": 1,
   "metadata": {},
   "outputs": [
    {
     "data": {
      "text/plain": [
       "True"
      ]
     },
     "execution_count": 1,
     "metadata": {},
     "output_type": "execute_result"
    }
   ],
   "source": [
    "from dotenv import load_dotenv\n",
    "load_dotenv()"
   ]
  },
  {
   "cell_type": "code",
   "execution_count": 2,
   "metadata": {},
   "outputs": [],
   "source": [
    "from langchain.chat_models import init_chat_model\n",
    "\n",
    "llm = init_chat_model(\"openai:gpt-4o\", temperature=0)"
   ]
  },
  {
   "cell_type": "markdown",
   "metadata": {},
   "source": [
    "Filsearch tool usage (From my vector store)"
   ]
  },
  {
   "cell_type": "code",
   "execution_count": 3,
   "metadata": {},
   "outputs": [
    {
     "name": "stdout",
     "output_type": "stream",
     "text": [
      "==================================\u001b[1m Ai Message \u001b[0m==================================\n",
      "\n",
      "[{'type': 'text', 'text': 'Joan Estrada tiene más de 6 años de experiencia como desarrollador de software. Ha trabajado en varios proyectos, incluyendo App Propital, Waipo IOT, y GetASense RAG, logrando un retorno de inversión de hasta el 85% en los proyectos en los que ha participado. Su experiencia incluye desarrollo Full Stack y móvil (iOS y Android), implementación de prácticas CI/CD, y desarrollo de herramientas basadas en Python y FastAPI. También ha trabajado con tecnologías como AWS, React, y microservicios con GraphQL.', 'annotations': [{'file_id': 'file-WPQ9iYQ9pAfeWfsxHpTfLn', 'filename': 'CV_ESTRADA_RAMOS_JOAN.pdf', 'index': 505, 'type': 'file_citation'}]}]\n"
     ]
    }
   ],
   "source": [
    "import os\n",
    "\n",
    "file_search_tool = {\n",
    "    \"type\": \"file_search\",\n",
    "    \"vector_store_ids\": [os.getenv(\"VECTOR_STORE_ID\")], # Can be an array\n",
    "}\n",
    "\n",
    "llm_with_tools = llm.bind_tools([file_search_tool])\n",
    "\n",
    "response = llm_with_tools.invoke(\"¿Cuál es la experiencia de Joan Estrada en software?\")\n",
    "response.pretty_print()"
   ]
  }
 ],
 "metadata": {
  "kernelspec": {
   "display_name": "langraph-agentic-templates",
   "language": "python",
   "name": "python3"
  },
  "language_info": {
   "codemirror_mode": {
    "name": "ipython",
    "version": 3
   },
   "file_extension": ".py",
   "mimetype": "text/x-python",
   "name": "python",
   "nbconvert_exporter": "python",
   "pygments_lexer": "ipython3",
   "version": "3.13.3"
  }
 },
 "nbformat": 4,
 "nbformat_minor": 2
}
